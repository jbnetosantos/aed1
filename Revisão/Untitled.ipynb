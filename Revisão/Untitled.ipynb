{
 "cells": [
  {
   "cell_type": "code",
   "execution_count": 4,
   "id": "d7bbe0d2-8b32-46bf-b4c4-eef3cda7aa49",
   "metadata": {},
   "outputs": [
    {
     "name": "stdout",
     "output_type": "stream",
     "text": [
      "A média das notas é:51.36666666666667\n"
     ]
    }
   ],
   "source": [
    "consumo_diario = [50, 45, 55, 60, 48, 52, 47, 49, 53, 51, 50, 46, 54, 61, 49, 53, 48, 50, 52, 47, 56, 50, 55, 60, 48, 52, 47, 49, 53, 51]\n",
    "soma = sum(consumo_diario)\n",
    "media = soma/len(consumo_diario)\n",
    "print(f\"A média das notas é:{media}\")"
   ]
  },
  {
   "cell_type": "code",
   "execution_count": 6,
   "id": "3a1dc18c-8922-4eca-b087-20269e3573f5",
   "metadata": {},
   "outputs": [
    {
     "name": "stdout",
     "output_type": "stream",
     "text": [
      "Médias de cada lista: [6.6, 6.0, 8.2, 5.2, 7.4]\n",
      "Maior média: 8.2\n"
     ]
    }
   ],
   "source": [
    "produtividade =[[5,7,6,8,7],\n",
    "               [6,5,6,7,6],\n",
    "               [8,9,7,8,9],\n",
    "               [4,6,5,5,6],\n",
    "               [7,8,7,8,7]]\n",
    "def calcular_media(lista):\n",
    "    return sum(lista) / len(lista)\n",
    "\n",
    "# Transformar a matriz em listas e calcular a média de cada uma\n",
    "medias = [calcular_media(lista) for lista in produtividade]\n",
    "\n",
    "# Encontrar a maior média\n",
    "maior_media = max(medias)\n",
    "\n",
    "print(\"Médias de cada lista:\", medias)\n",
    "print(\"Maior média:\", maior_media)"
   ]
  },
  {
   "cell_type": "code",
   "execution_count": 10,
   "id": "2a150ba6-96d4-4781-a34b-a1da10581f9a",
   "metadata": {},
   "outputs": [
    {
     "name": "stdout",
     "output_type": "stream",
     "text": [
      "41\n"
     ]
    }
   ],
   "source": [
    "prod =[[5,7,6,8,7],\n",
    "               [6,5,6,7,6],\n",
    "               [8,9,7,8,9],\n",
    "               [4,6,5,5,6],\n",
    "               [7,8,7,8,7]]\n",
    "fun1 = prod[0]\n",
    "fun2 = prod[1]\n",
    "fun3 = prod[2]\n",
    "fun4 = prod[3]\n",
    "fun5 = prod[4]\n",
    "\n",
    "soma1 = sum(fun1)\n",
    "soma2 = sum(fun2)\n",
    "soma3 = sum(fun3)\n",
    "soma4 = sum(fun4)\n",
    "soma5 = sum(fun5)\n",
    "print(max(soma1, soma2, soma3, soma4, soma5))"
   ]
  },
  {
   "cell_type": "code",
   "execution_count": 11,
   "id": "d2c723c1-328d-4096-ac13-59938e7f7124",
   "metadata": {},
   "outputs": [
    {
     "name": "stdout",
     "output_type": "stream",
     "text": [
      "[5, 7, 6, 8, 7]\n",
      "[6, 5, 6, 7, 6]\n",
      "[8, 9, 7, 8, 9]\n",
      "[4, 6, 5, 5, 6]\n",
      "[7, 8, 7, 8, 7]\n"
     ]
    }
   ],
   "source": [
    "produtividade =[[5,7,6,8,7],\n",
    "               [6,5,6,7,6],\n",
    "               [8,9,7,8,9],\n",
    "               [4,6,5,5,6],\n",
    "               [7,8,7,8,7]]\n",
    "f = 0\n",
    "for tarefas in produtividade:\n",
    "    soma = 0\n",
    "    for tarefas in tarefas:\n",
    "        soma += tarefa\n",
    "    func[f] = soma\n",
    "    f += 1\n",
    "\n",
    "prit(func)\n",
    "        "
   ]
  },
  {
   "cell_type": "code",
   "execution_count": 25,
   "id": "bf1f89fb-1c33-4d16-b57b-55c13b5905ea",
   "metadata": {},
   "outputs": [],
   "source": [
    "participantes = ['Ana', 'Bruno', 'Carlos', 'Diana', 'Eduardo',]\n",
    "nome = 'Carlos'\n",
    "\n",
    "def verificar_participantes(participantes, nome):\n",
    "    if nome in participantes:\n",
    "        return True\n",
    "    else:\n",
    "        return False\n",
    "        "
   ]
  },
  {
   "cell_type": "code",
   "execution_count": 29,
   "id": "e3a07b42-a037-4653-b3d0-8aee9e04b1bf",
   "metadata": {},
   "outputs": [
    {
     "name": "stdout",
     "output_type": "stream",
     "text": [
      "['Ana', 'Bruno', 'Carlos', 'Diana', 'Eduardo'] participou do evento!\n"
     ]
    }
   ],
   "source": [
    "participantes = ['Ana', 'Bruno', 'Carlos', 'Diana', 'Eduardo',]\n",
    "nome = 'Carlos'\n",
    "\n",
    "if verificar_participantes(nome_participantes, nome):\n",
    "    print(f\"{nome_participantes} participou do evento!\")\n",
    "else:\n",
    "    print(f\"{participante} Não participou do evento\")"
   ]
  },
  {
   "cell_type": "code",
   "execution_count": null,
   "id": "53ce4fe1-a214-45b7-8c75-6206b7beb144",
   "metadata": {},
   "outputs": [],
   "source": []
  }
 ],
 "metadata": {
  "kernelspec": {
   "display_name": "Python 3 (ipykernel)",
   "language": "python",
   "name": "python3"
  },
  "language_info": {
   "codemirror_mode": {
    "name": "ipython",
    "version": 3
   },
   "file_extension": ".py",
   "mimetype": "text/x-python",
   "name": "python",
   "nbconvert_exporter": "python",
   "pygments_lexer": "ipython3",
   "version": "3.11.7"
  }
 },
 "nbformat": 4,
 "nbformat_minor": 5
}
